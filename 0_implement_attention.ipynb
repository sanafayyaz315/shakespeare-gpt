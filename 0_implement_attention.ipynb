{
 "cells": [
  {
   "cell_type": "markdown",
   "metadata": {},
   "source": [
    "# Understanding Attention in Transformers  \n",
    "This notebook demonstrates **self-attention** (used in GPT-like models) with a minimal example. Inspired by [Andrej Karpathy's lecture](https://youtu.be/kCc8FmEb1nY), we'll:  \n",
    "1. Create toy embeddings for a sentence.  \n",
    "2. Compute attention scores (weights) between tokens.  \n",
    "3. Mask future tokens for autoregressive (causal) attention.  \n",
    "4. Aggregate embeddings using weighted sums.  \n",
    "\n",
    "Key idea: Each token's output is a weighted mix of *itself* and *past tokens*."
   ]
  },
  {
   "cell_type": "markdown",
   "metadata": {},
   "source": [
    "### Why Attention?  \n",
    "Language models predict the next word by focusing on relevant past words. Consider a string \"your cat is a lovely cat\": \n",
    "- The first \"cat\" might attend to \"your\".  \n",
    "- The second \"cat\" might attend to \"your lovely\".  \n",
    "Attention weights (`wei`) decide how much focus each word gets.  "
   ]
  },
  {
   "cell_type": "code",
   "execution_count": 3,
   "metadata": {},
   "outputs": [],
   "source": [
    "import torch\n",
    "import torch.nn as nn \n",
    "import torch.nn.functional as F"
   ]
  },
  {
   "cell_type": "markdown",
   "metadata": {},
   "source": [
    "## Step 1: Toy Embeddings  \n",
    "We'll use a tiny sentence and map each word to a random 2D embedding (for visualization).  \n",
    "- `stoi`: Word-to-index mapping.  \n",
    "- `embedding_table`: Random embeddings (normally learned during training).  \n",
    "\n",
    "For understanding, let's work with the string *\"your cat is a lovely cat\"* as an example."
   ]
  },
  {
   "cell_type": "code",
   "execution_count": 4,
   "metadata": {},
   "outputs": [
    {
     "name": "stdout",
     "output_type": "stream",
     "text": [
      "string to int mapping:\n",
      " {'your': 0, 'cat': 5, 'is': 2, 'a': 3, 'lovely': 4}\n",
      "tokenized input:\n",
      " tensor([0, 5, 2, 3, 4, 5])\n",
      "embedded input:\n",
      " tensor([[-2.0260, -2.0655],\n",
      "        [ 0.5133,  0.3319],\n",
      "        [-1.2502,  0.8032],\n",
      "        [-0.2071,  0.0544],\n",
      "        [ 0.1378, -0.3889],\n",
      "        [ 0.5133,  0.3319]], grad_fn=<EmbeddingBackward0>)\n"
     ]
    }
   ],
   "source": [
    "# Set a fixed random seed for reproducibility (ensures consistent embeddings)\n",
    "torch.manual_seed(1337);\n",
    "\n",
    "# Sample sentence (6 tokens)\n",
    "s = \"your cat is a lovely cat\"\n",
    "\n",
    "# word-to-index mapping (vocabulary)\n",
    "stoi = {c:n for n, c in enumerate(s.split(\" \"))}\n",
    "print(f\"string to int mapping:\\n {stoi}\")\n",
    "\n",
    "# tokenize s\n",
    "x = torch.tensor([stoi[c] for c in s.split(\" \")])\n",
    "print(f\"tokenized input:\\n {x}\")\n",
    "\n",
    "# embed x (tokenized s) into 2 dims\n",
    "embedding_table = nn.Embedding(6, 2)\n",
    "x = embedding_table(x)\n",
    "print(f\"embedded input:\\n {x}\")\n"
   ]
  },
  {
   "cell_type": "code",
   "execution_count": 5,
   "metadata": {},
   "outputs": [
    {
     "name": "stdout",
     "output_type": "stream",
     "text": [
      "lower triangular matrix:\n",
      " tensor([[1., 0., 0., 0., 0., 0.],\n",
      "        [1., 1., 0., 0., 0., 0.],\n",
      "        [1., 1., 1., 0., 0., 0.],\n",
      "        [1., 1., 1., 1., 0., 0.],\n",
      "        [1., 1., 1., 1., 1., 0.],\n",
      "        [1., 1., 1., 1., 1., 1.]])\n",
      "initialized weight matrix:\n",
      " tensor([[0., 0., 0., 0., 0., 0.],\n",
      "        [0., 0., 0., 0., 0., 0.],\n",
      "        [0., 0., 0., 0., 0., 0.],\n",
      "        [0., 0., 0., 0., 0., 0.],\n",
      "        [0., 0., 0., 0., 0., 0.],\n",
      "        [0., 0., 0., 0., 0., 0.]])\n",
      "masked wei matrix:\n",
      " tensor([[0., -inf, -inf, -inf, -inf, -inf],\n",
      "        [0., 0., -inf, -inf, -inf, -inf],\n",
      "        [0., 0., 0., -inf, -inf, -inf],\n",
      "        [0., 0., 0., 0., -inf, -inf],\n",
      "        [0., 0., 0., 0., 0., -inf],\n",
      "        [0., 0., 0., 0., 0., 0.]])\n",
      "normalized wei matrix\n",
      " tensor([[1.0000, 0.0000, 0.0000, 0.0000, 0.0000, 0.0000],\n",
      "        [0.5000, 0.5000, 0.0000, 0.0000, 0.0000, 0.0000],\n",
      "        [0.3333, 0.3333, 0.3333, 0.0000, 0.0000, 0.0000],\n",
      "        [0.2500, 0.2500, 0.2500, 0.2500, 0.0000, 0.0000],\n",
      "        [0.2000, 0.2000, 0.2000, 0.2000, 0.2000, 0.0000],\n",
      "        [0.1667, 0.1667, 0.1667, 0.1667, 0.1667, 0.1667]]) with shape torch.Size([6, 6])\n"
     ]
    }
   ],
   "source": [
    "# create a lower triangular matrix where lower tri is 1 and upper 0\n",
    "tril = torch.tril(torch.ones(6, 6))\n",
    "print(f\"lower triangular matrix:\\n {tril}\")\n",
    "# a weight matrix of (vocab_size, vocab_size) initialized with zeros \n",
    "wei = torch.zeros((6,6))\n",
    "print(f\"initialized weight matrix:\\n {wei}\")\n",
    "# fill the upper half of the matrix with -inf where tril has 0s to mask the future tokens\n",
    "wei = wei.masked_fill(tril == 0, float(\"-inf\"))\n",
    "print(f\"masked wei matrix:\\n {wei}\")\n",
    "# softmax normalizes(converts into probs that sum up to 1)\n",
    "wei = F.softmax(wei, dim=1) \n",
    "print(f\"normalized wei matrix\\n {wei} with shape {wei.shape}\")"
   ]
  },
  {
   "cell_type": "markdown",
   "metadata": {},
   "source": [
    "### Attention Weights (`wei`)  \n",
    "The `wei` matrix defines how much each token (row) attends to others (columns):  \n",
    "- **Lower triangular**: Tokens only attend to past/current tokens (causal masking).  \n",
    "- **Uniform weights**: Because we initialized `wei` as `-inf` (masked) or `0` (unmasked), softmax gives equal weight to all unmasked tokens.  \n",
    "\n",
    "Example:  \n",
    "- Row 0 (`[1, 0, 0,...]`): First token (\"your\") only attends to itself.  \n",
    "- Row 2 (`[0.33, 0.33, 0.33,...]`): Third token (\"is\") averages itself + past tokens (\"your\", \"cat\"), so it only attends to the current token \"cat\" and the previous token \"your\" while probability for the future tokens is 0."
   ]
  },
  {
   "cell_type": "markdown",
   "metadata": {},
   "source": [
    "The wei matrix calculates the attention score - it tells you much focus a word should place on the other words/tokens\n",
    "Each row corresponds to a word position\n",
    "\n",
    "Each column shows how much attention to give to previous words\n",
    "\n",
    "Because we initialized the wei to 0, every token pays equal attention to itself and all the tokens that came before it."
   ]
  },
  {
   "cell_type": "code",
   "execution_count": 6,
   "metadata": {},
   "outputs": [
    {
     "data": {
      "text/plain": [
       "(tensor([[-2.0260, -2.0655],\n",
       "         [ 0.5133,  0.3319],\n",
       "         [-1.2502,  0.8032],\n",
       "         [-0.2071,  0.0544],\n",
       "         [ 0.1378, -0.3889],\n",
       "         [ 0.5133,  0.3319]], grad_fn=<EmbeddingBackward0>),\n",
       " torch.Size([6, 2]))"
      ]
     },
     "execution_count": 6,
     "metadata": {},
     "output_type": "execute_result"
    }
   ],
   "source": [
    "x, x.shape # your cat is a lovely cat"
   ]
  },
  {
   "cell_type": "code",
   "execution_count": 10,
   "metadata": {},
   "outputs": [
    {
     "name": "stdout",
     "output_type": "stream",
     "text": [
      "wei matrix:\n",
      " tensor([[1.0000, 0.0000, 0.0000, 0.0000, 0.0000, 0.0000],\n",
      "        [0.5000, 0.5000, 0.0000, 0.0000, 0.0000, 0.0000],\n",
      "        [0.3333, 0.3333, 0.3333, 0.0000, 0.0000, 0.0000],\n",
      "        [0.2500, 0.2500, 0.2500, 0.2500, 0.0000, 0.0000],\n",
      "        [0.2000, 0.2000, 0.2000, 0.2000, 0.2000, 0.0000],\n",
      "        [0.1667, 0.1667, 0.1667, 0.1667, 0.1667, 0.1667]])\n",
      "input x:\n",
      " tensor([[-2.0260, -2.0655],\n",
      "        [ 0.5133,  0.3319],\n",
      "        [-1.2502,  0.8032],\n",
      "        [-0.2071,  0.0544],\n",
      "        [ 0.1378, -0.3889],\n",
      "        [ 0.5133,  0.3319]], grad_fn=<EmbeddingBackward0>)\n"
     ]
    }
   ],
   "source": [
    "print(f\"wei matrix:\\n {wei}\")\n",
    "print(f\"input x:\\n {x}\")"
   ]
  },
  {
   "cell_type": "markdown",
   "metadata": {},
   "source": [
    "## Step 2: Contextual Embeddings  \n",
    "Now we compute the **weighted sum** of embeddings using `wei`:  \n",
    "$$  \n",
    "\\text{out}_i = \\sum_{j \\leq i} \\text{wei}_{ij} \\cdot x_j  \n",
    "$$"
   ]
  },
  {
   "cell_type": "code",
   "execution_count": 9,
   "metadata": {},
   "outputs": [
    {
     "name": "stdout",
     "output_type": "stream",
     "text": [
      "torch.Size([6, 6]) torch.Size([6, 2])\n"
     ]
    },
    {
     "data": {
      "text/plain": [
       "(tensor([[-2.0260, -2.0655],\n",
       "         [-0.7563, -0.8668],\n",
       "         [-0.9210, -0.3101],\n",
       "         [-0.7425, -0.2190],\n",
       "         [-0.5664, -0.2530],\n",
       "         [-0.3865, -0.1555]], grad_fn=<MmBackward0>),\n",
       " torch.Size([6, 2]))"
      ]
     },
     "execution_count": 9,
     "metadata": {},
     "output_type": "execute_result"
    }
   ],
   "source": [
    "print(wei.shape, x.shape) # wei gives equal importance to the current and the past tokens\n",
    "out = wei @ x \n",
    "# we aggregate each token embedding (x) with the average of the token itself and the past tokens\n",
    "out, out.shape"
   ]
  },
  {
   "cell_type": "markdown",
   "metadata": {},
   "source": [
    "wei @ x is basically taking the sum of the embeddings of all the previous tokens, weighted by the attention weights. (weighted sum)\n",
    "$$\n",
    "\\text{out}_i = \\sum_{j=1}^{n} \\alpha_{ij} \\cdot V_j\n",
    "$$\n",
    "\n",
    "\n",
    "Where:\n",
    "\n",
    "α \n",
    "ij\n",
    "​\n",
    " : how much token i attends to token j (computed via softmax)\n",
    "\n",
    "V \n",
    "j\n",
    "​\n",
    " : the value vector of token j\n",
    "\n",
    "\n",
    "out \n",
    "i\n",
    "​\n",
    " : new embedding of token i after considering context\n",
    "\n",
    "This is a weighted sum over all other tokens’ value vectors V j\n",
    "​\n",
    " ."
   ]
  },
  {
   "cell_type": "markdown",
   "metadata": {},
   "source": [
    "Each row in out is a new vector representation of a word, but now it has context.\n",
    "\n",
    "Originally, each word had its own isolated embedding (just from the nn.Embedding table).\n",
    "\n",
    "Now, after wei @ x, each word's vector is a weighted average of itself and its previous words.\n",
    "\n",
    "This means:\n",
    "\n",
    "The word's new representation encodes its meaning in context, based only on past tokens (left-to-right), like a causal language model.\n",
    "\n",
    "out[0]: representation of \"your\" (just its embedding)\n",
    "\n",
    "out[1]: representation of \"cat\" as a mixture of \"your\" and \"cat\"\n",
    "\n",
    "out[2]: representation of \"is\" based on \"your\", \"cat\", and \"is\"\n",
    "\n",
    "...\n",
    "\n",
    "out[5]: representation of the final \"cat\", which now depends on all previous words\n",
    "\n",
    "\n"
   ]
  },
  {
   "cell_type": "markdown",
   "metadata": {},
   "source": [
    "### Visualizing Attention  \n",
    "The heatmap shows how much each query token (row) attends to key tokens (columns). Note the lower-triangular pattern (no future peeking!):  "
   ]
  },
  {
   "cell_type": "code",
   "execution_count": 20,
   "metadata": {},
   "outputs": [
    {
     "data": {
      "image/png": "[encoded data removed]",
      "text/plain": [
       "<Figure size 640x480 with 2 Axes>"
      ]
     },
     "metadata": {},
     "output_type": "display_data"
    }
   ],
   "source": [
    "\n",
    "####  Add Visualization (Critical for Intuition)**  \n",
    "import matplotlib.pyplot as plt\n",
    "\n",
    "plt.imshow(wei.detach().numpy(), cmap='Blues')\n",
    "plt.xlabel(\"Key Position\")\n",
    "plt.ylabel(\"Query Position\")\n",
    "plt.title(\"Attention Weights\")\n",
    "plt.colorbar()\n",
    "plt.show()"
   ]
  },
  {
   "cell_type": "markdown",
   "metadata": {},
   "source": [
    "## Step 3: Query, Key, Value (QKV) Attention  \n",
    "Real attention uses learned **Query** (what I’m looking for), **Key** (what I contain), and **Value** (what I’ll share) vectors:  \n",
    "- `q = query(x)`: How much the token \"asks\" about others.  \n",
    "- `k = key(x)`: How much the token \"answers\" others' queries.  \n",
    "- `v = value(x)`: Actual content shared.  \n",
    "\n",
    "Scores (`wei = q @ k.T`) measure query-key compatibility.  "
   ]
  },
  {
   "cell_type": "code",
   "execution_count": 21,
   "metadata": {},
   "outputs": [
    {
     "name": "stdout",
     "output_type": "stream",
     "text": [
      "shape of input: torch.Size([6, 2])\n",
      "Query for all the 6 tokens: tensor([[-0.8880,  1.9067],\n",
      "        [ 0.1336, -0.4055],\n",
      "        [ 0.4446,  0.3338],\n",
      "        [ 0.0361,  0.0872],\n",
      "        [-0.1925,  0.0850],\n",
      "        [ 0.1336, -0.4055]], grad_fn=<MmBackward0>), shape: torch.Size([6, 2])\n",
      "Key for all the 6 tokens: tensor([[ 0.7013, -2.1317],\n",
      "        [-0.2415,  0.4191],\n",
      "        [ 1.1257, -0.0024],\n",
      "        [ 0.1603, -0.0501],\n",
      "        [-0.2243, -0.1895],\n",
      "        [-0.2415,  0.4191]], grad_fn=<MmBackward0>), shape: torch.Size([6, 2])\n"
     ]
    }
   ],
   "source": [
    "head_size = 2\n",
    "key = nn.Linear(2, head_size, bias=False)\n",
    "query = nn.Linear(2, head_size, bias=False)\n",
    "value = nn.Linear(2, head_size, bias=False)\n",
    "k = key(x)\n",
    "q = query(x)\n",
    "v = value(x)\n",
    "print(f\"shape of input: {x.shape}\")\n",
    "print(f\"Query for all the 6 tokens: {q}, shape: {q.shape}\")\n",
    "print(f\"Key for all the 6 tokens: {k}, shape: {k.shape}\")\n"
   ]
  },
  {
   "cell_type": "code",
   "execution_count": 22,
   "metadata": {},
   "outputs": [
    {
     "data": {
      "text/plain": [
       "tensor([[ 0.7013, -0.2415,  1.1257,  0.1603, -0.2243, -0.2415],\n",
       "        [-2.1317,  0.4191, -0.0024, -0.0501, -0.1895,  0.4191]],\n",
       "       grad_fn=<PermuteBackward0>)"
      ]
     },
     "execution_count": 22,
     "metadata": {},
     "output_type": "execute_result"
    }
   ],
   "source": [
    "k.T"
   ]
  },
  {
   "cell_type": "code",
   "execution_count": 23,
   "metadata": {},
   "outputs": [
    {
     "data": {
      "text/plain": [
       "(tensor([[-4.6874e+00,  1.0137e+00, -1.0042e+00, -2.3785e-01, -1.6225e-01,\n",
       "           1.0137e+00],\n",
       "         [ 9.5800e-01, -2.0221e-01,  1.5131e-01,  4.1719e-02,  4.6900e-02,\n",
       "          -2.0221e-01],\n",
       "         [-3.9978e-01,  3.2535e-02,  4.9966e-01,  5.4525e-02, -1.6298e-01,\n",
       "           3.2535e-02],\n",
       "         [-1.6059e-01,  2.7838e-02,  4.0407e-02,  1.4131e-03, -2.4621e-02,\n",
       "           2.7838e-02],\n",
       "         [-3.1625e-01,  8.2131e-02, -2.1689e-01, -3.5109e-02,  2.7054e-02,\n",
       "           8.2131e-02],\n",
       "         [ 9.5800e-01, -2.0221e-01,  1.5131e-01,  4.1719e-02,  4.6900e-02,\n",
       "          -2.0221e-01]], grad_fn=<MmBackward0>),\n",
       " torch.Size([6, 6]))"
      ]
     },
     "execution_count": 23,
     "metadata": {},
     "output_type": "execute_result"
    }
   ],
   "source": [
    "wei = q @ k.T # dot product the query of each token with the key of itself and all the other tokens \n",
    "wei, wei.shape"
   ]
  },
  {
   "cell_type": "markdown",
   "metadata": {},
   "source": [
    "### Masking Future Tokens  \n",
    "To prevent cheating in autoregressive models (like GPT), we mask future tokens by setting their scores to `-inf` before softmax:  \n",
    "```python  \n",
    "tril = torch.tril(torch.ones(6, 6))  # Lower triangular mask  \n",
    "wei = wei.masked_fill(tril == 0, float(\"-inf\"))  "
   ]
  },
  {
   "cell_type": "code",
   "execution_count": 24,
   "metadata": {},
   "outputs": [
    {
     "name": "stdout",
     "output_type": "stream",
     "text": [
      "weight matrix: tensor([[-4.6874e+00,        -inf,        -inf,        -inf,        -inf,\n",
      "                -inf],\n",
      "        [ 9.5800e-01, -2.0221e-01,        -inf,        -inf,        -inf,\n",
      "                -inf],\n",
      "        [-3.9978e-01,  3.2535e-02,  4.9966e-01,        -inf,        -inf,\n",
      "                -inf],\n",
      "        [-1.6059e-01,  2.7838e-02,  4.0407e-02,  1.4131e-03,        -inf,\n",
      "                -inf],\n",
      "        [-3.1625e-01,  8.2131e-02, -2.1689e-01, -3.5109e-02,  2.7054e-02,\n",
      "                -inf],\n",
      "        [ 9.5800e-01, -2.0221e-01,  1.5131e-01,  4.1719e-02,  4.6900e-02,\n",
      "         -2.0221e-01]], grad_fn=<MaskedFillBackward0>)\n",
      "score: tensor([[1.0000, 0.0000, 0.0000, 0.0000, 0.0000, 0.0000],\n",
      "        [0.7614, 0.2386, 0.0000, 0.0000, 0.0000, 0.0000],\n",
      "        [0.2000, 0.3082, 0.4917, 0.0000, 0.0000, 0.0000],\n",
      "        [0.2171, 0.2621, 0.2655, 0.2553, 0.0000, 0.0000],\n",
      "        [0.1580, 0.2354, 0.1745, 0.2093, 0.2228, 0.0000],\n",
      "        [0.3478, 0.1090, 0.1552, 0.1391, 0.1398, 0.1090]],\n",
      "       grad_fn=<SoftmaxBackward0>)\n",
      "output: tensor([[ 0.9757, -0.4630],\n",
      "        [ 0.6924, -0.3358],\n",
      "        [ 0.2349,  0.0416],\n",
      "        [ 0.2258, -0.0167],\n",
      "        [ 0.1594, -0.0351],\n",
      "        [ 0.3379, -0.1216]], grad_fn=<MmBackward0>)\n"
     ]
    }
   ],
   "source": [
    "# mask the weights for the futire tokens\n",
    "tril = torch.tril(torch.ones(6,6))\n",
    "wei = wei.masked_fill(tril ==0, float(\"-inf\"))\n",
    "print(f\"weight matrix: {wei}\")\n",
    "# apply softmax to get the attention score\n",
    "wei = F.softmax(wei, dim=-1)\n",
    "print(f\"score: {wei}\")\n",
    "out = wei @ v\n",
    "print(f\"output: {out}\")\n",
    "\n"
   ]
  },
  {
   "cell_type": "code",
   "execution_count": 26,
   "metadata": {},
   "outputs": [
    {
     "name": "stdout",
     "output_type": "stream",
     "text": [
      "Original values (no context):\\n tensor([[ 0.9757, -0.4630],\n",
      "        [-0.2114,  0.0699],\n",
      "        [ 0.2133,  0.2291],\n",
      "        [ 0.0501,  0.0185],\n",
      "        [ 0.0327, -0.0997],\n",
      "        [-0.2114,  0.0699]], grad_fn=<MmBackward0>)\n",
      "Contextualized outputs:\\n tensor([[ 0.9757, -0.4630],\n",
      "        [ 0.6924, -0.3358],\n",
      "        [ 0.2349,  0.0416],\n",
      "        [ 0.2258, -0.0167],\n",
      "        [ 0.1594, -0.0351],\n",
      "        [ 0.3379, -0.1216]], grad_fn=<MmBackward0>)\n"
     ]
    }
   ],
   "source": [
    "# Compare original vs. contextualized embeddings:  \n",
    "# - `v`: Isolated token representations.  \n",
    "# - `out`: Tokens now include context from previous words.  \n",
    "print(\"Original values (no context):\\\\n\", v)  \n",
    "print(\"Contextualized outputs:\\\\n\", out)  "
   ]
  },
  {
   "cell_type": "markdown",
   "metadata": {},
   "source": [
    "## Final Output  \n",
    "Each row in `out` is a new embedding combining information from past tokens via attention. Compare:  \n",
    "- `v`: Original value vectors (no context).  \n",
    "- `out`: Contextualized vectors (e.g., the second \"cat\" now knows about the first \"cat\").  "
   ]
  },
  {
   "cell_type": "markdown",
   "metadata": {},
   "source": [
    "## Key Takeaways  \n",
    "- Attention computes weighted sums of embeddings.  \n",
    "- Masking ensures causality (no future peeking).  \n",
    "- Q/K/V projections enable dynamic context mixing.  "
   ]
  }
 ],
 "metadata": {
  "kernelspec": {
   "display_name": "dev",
   "language": "python",
   "name": "python3"
  },
  "language_info": {
   "codemirror_mode": {
    "name": "ipython",
    "version": 3
   },
   "file_extension": ".py",
   "mimetype": "text/x-python",
   "name": "python",
   "nbconvert_exporter": "python",
   "pygments_lexer": "ipython3",
   "version": "3.11.3"
  }
 },
 "nbformat": 4,
 "nbformat_minor": 2
}
